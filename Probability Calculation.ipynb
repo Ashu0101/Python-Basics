{
 "cells": [
  {
   "cell_type": "markdown",
   "id": "a22c1335",
   "metadata": {},
   "source": [
    "## Probability of biased coin\n",
    "\n",
    "### P(H) = 0.51 "
   ]
  },
  {
   "cell_type": "code",
   "execution_count": 13,
   "id": "741e1be5",
   "metadata": {},
   "outputs": [],
   "source": [
    "def fact(x):\n",
    "    if (x!=0):\n",
    "        y = x\n",
    "        while(x!=1):\n",
    "            y = y*(x-1)\n",
    "            x = x-1\n",
    "    else:\n",
    "        y = 1\n",
    "    return y"
   ]
  },
  {
   "cell_type": "code",
   "execution_count": 14,
   "id": "443e2629",
   "metadata": {},
   "outputs": [],
   "source": [
    "def ncr(n,r):\n",
    "    a = (fact(n))/(fact(r)*fact(n-r))\n",
    "    return a"
   ]
  },
  {
   "cell_type": "code",
   "execution_count": 15,
   "id": "0935b2fd",
   "metadata": {},
   "outputs": [],
   "source": [
    "p = 0.51\n",
    "q = 0.49"
   ]
  },
  {
   "cell_type": "code",
   "execution_count": 16,
   "id": "24fddb1d",
   "metadata": {},
   "outputs": [],
   "source": [
    "n = 1000\n",
    "r = 501\n",
    "prob = 0\n",
    "while(r<=n):\n",
    "    prob = prob + ncr(n,r)*(p**r)*(q**(n-r))\n",
    "    r = r+1"
   ]
  },
  {
   "cell_type": "code",
   "execution_count": 17,
   "id": "5c995014",
   "metadata": {},
   "outputs": [
    {
     "data": {
      "text/plain": [
       "0.7260985557305037"
      ]
     },
     "execution_count": 17,
     "metadata": {},
     "output_type": "execute_result"
    }
   ],
   "source": [
    "prob"
   ]
  },
  {
   "cell_type": "code",
   "execution_count": null,
   "id": "15541edb",
   "metadata": {},
   "outputs": [],
   "source": []
  }
 ],
 "metadata": {
  "kernelspec": {
   "display_name": "Python 3",
   "language": "python",
   "name": "python3"
  },
  "language_info": {
   "codemirror_mode": {
    "name": "ipython",
    "version": 3
   },
   "file_extension": ".py",
   "mimetype": "text/x-python",
   "name": "python",
   "nbconvert_exporter": "python",
   "pygments_lexer": "ipython3",
   "version": "3.8.8"
  }
 },
 "nbformat": 4,
 "nbformat_minor": 5
}
